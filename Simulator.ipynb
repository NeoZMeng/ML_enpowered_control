{
 "cells": [
  {
   "cell_type": "code",
   "execution_count": null,
   "id": "ba755db3-0d76-42d5-b8b6-d61fbd1cd588",
   "metadata": {},
   "outputs": [],
   "source": [
    "import sys\n",
    "sys.path.insert(1, \"SaveFuel_WholeProgram\")\n",
    "import numpy as np\n",
    "import matplotlib.pyplot as plt\n",
    "import pandas as pd\n",
    "from Simulator import Simulator, Car\n",
    "from SimFunc import *"
   ]
  },
  {
   "cell_type": "code",
   "execution_count": 1,
   "id": "de32a03d-30b2-41c3-bd4f-662aa7e73bf9",
   "metadata": {
    "jp-MarkdownHeadingCollapsed": true,
    "tags": []
   },
   "outputs": [
    {
     "ename": "NameError",
     "evalue": "name 'Car' is not defined",
     "output_type": "error",
     "traceback": [
      "\u001b[0;31m---------------------------------------------------------------------------\u001b[0m",
      "\u001b[0;31mNameError\u001b[0m                                 Traceback (most recent call last)",
      "\u001b[0;32m/var/folders/fl/jhknjvy145g2_46f9_q06jh40000gn/T/ipykernel_32492/2255242025.py\u001b[0m in \u001b[0;36m<module>\u001b[0;34m\u001b[0m\n\u001b[1;32m      1\u001b[0m \u001b[0;31m# basic parameters\u001b[0m\u001b[0;34m\u001b[0m\u001b[0;34m\u001b[0m\u001b[0;34m\u001b[0m\u001b[0m\n\u001b[0;32m----> 2\u001b[0;31m \u001b[0mcar\u001b[0m \u001b[0;34m=\u001b[0m \u001b[0mCar\u001b[0m\u001b[0;34m(\u001b[0m\u001b[0;36m1345\u001b[0m\u001b[0;34m,\u001b[0m \u001b[0;36m42.24\u001b[0m\u001b[0;34m,\u001b[0m \u001b[0;36m0.22\u001b[0m \u001b[0;34m*\u001b[0m \u001b[0;36m0.001\u001b[0m\u001b[0;34m,\u001b[0m \u001b[0;36m0.0215\u001b[0m\u001b[0;34m,\u001b[0m \u001b[0;36m20\u001b[0m\u001b[0;34m)\u001b[0m\u001b[0;34m\u001b[0m\u001b[0;34m\u001b[0m\u001b[0m\n\u001b[0m\u001b[1;32m      3\u001b[0m \u001b[0mstartingSOC\u001b[0m \u001b[0;34m=\u001b[0m \u001b[0;36m0.15\u001b[0m\u001b[0;34m\u001b[0m\u001b[0;34m\u001b[0m\u001b[0m\n\u001b[1;32m      4\u001b[0m \u001b[0mminSOC\u001b[0m \u001b[0;34m=\u001b[0m \u001b[0;36m0.2\u001b[0m\u001b[0;34m\u001b[0m\u001b[0;34m\u001b[0m\u001b[0m\n\u001b[1;32m      5\u001b[0m \u001b[0mdt\u001b[0m \u001b[0;34m=\u001b[0m \u001b[0;36m1\u001b[0m\u001b[0;34m\u001b[0m\u001b[0;34m\u001b[0m\u001b[0m\n",
      "\u001b[0;31mNameError\u001b[0m: name 'Car' is not defined"
     ]
    }
   ],
   "source": [
    "# basic parameters\n",
    "car = Car(1345, 42.24, 0.22 * 0.001, 0.0215, 20)\n",
    "startingSOC = 0.15\n",
    "minSOC = 0.2\n",
    "dt = 1\n",
    "useNewAlgorithm = True\n",
    "homeGPS = (37.636536, -122.100225)\n"
   ]
  },
  {
   "cell_type": "code",
   "execution_count": null,
   "id": "39494518-b93a-4886-a995-331bf557af73",
   "metadata": {},
   "outputs": [],
   "source": [
    "# route preparation\n",
    "routeFileName = \"test_2.csv\"\n",
    "# csv file format: t, lats, lngs, elevation\n",
    "speed, slope = getRoute(routeFileName)\n",
    "# print(speed)\n",
    "# print(slope)\n",
    "\n"
   ]
  },
  {
   "cell_type": "code",
   "execution_count": null,
   "id": "37d4b07d-9663-4397-bc01-bb8b0848932b",
   "metadata": {},
   "outputs": [],
   "source": [
    "# simulation\n",
    "init(*homeGPS, 1)\n",
    "sim = Simulator(speed, slope, startingSOC, dt, car, minSOC, useNewAlgorithm)\n",
    "sim.simulate()\n",
    "learnRoute()\n"
   ]
  },
  {
   "cell_type": "code",
   "execution_count": null,
   "id": "0cc1734a-f5cd-4bd2-846b-ad781892d55f",
   "metadata": {},
   "outputs": [],
   "source": [
    "# present result\n",
    "\n",
    "t = sim.tRecord\n",
    "soc = sim.socRecord\n",
    "engine = sim.engineRecord\n",
    "fuel = sim.fuelRecord\n",
    "\n",
    "fig = plt.figure(figsize = (15, 25))\n",
    "plots = fig.subplots(ncols = 1, nrows = 5)\n",
    "plots[0].plot(t, soc)\n",
    "plots[1].plot(t, engine)\n",
    "plots[2].plot(t, fuel)\n",
    "plots[3].plot(t, sim.energyRecord)\n",
    "plots[4].plot(t, sim.distanceRecord)\n",
    "plots[0].set_title(\"soc vs time\")\n",
    "plots[1].set_title(\"engine on/off vs time\")\n",
    "plots[2].set_title(\"fuel used vs time\")\n",
    "plots[3].set_title(\"instantaneous energy consumption vs time\")\n",
    "plots[4].set_title(\"distance driven vs time\")\n",
    "\n",
    "_ = _\n",
    "\n",
    "\n"
   ]
  },
  {
   "cell_type": "code",
   "execution_count": null,
   "id": "dce93fef-79ae-401c-b0d1-63c2b62ecda8",
   "metadata": {},
   "outputs": [],
   "source": []
  },
  {
   "cell_type": "code",
   "execution_count": 11,
   "id": "91161500-12ee-41d5-8289-e69577e9a887",
   "metadata": {},
   "outputs": [],
   "source": [
    "clearLearnedRoute()"
   ]
  },
  {
   "cell_type": "code",
   "execution_count": null,
   "id": "77d14932-f862-4ab1-b8b0-095a05631e4a",
   "metadata": {},
   "outputs": [],
   "source": []
  }
 ],
 "metadata": {
  "kernelspec": {
   "display_name": "Python 3 (ipykernel)",
   "language": "python",
   "name": "python3"
  },
  "language_info": {
   "codemirror_mode": {
    "name": "ipython",
    "version": 3
   },
   "file_extension": ".py",
   "mimetype": "text/x-python",
   "name": "python",
   "nbconvert_exporter": "python",
   "pygments_lexer": "ipython3",
   "version": "3.7.9"
  }
 },
 "nbformat": 4,
 "nbformat_minor": 5
}
